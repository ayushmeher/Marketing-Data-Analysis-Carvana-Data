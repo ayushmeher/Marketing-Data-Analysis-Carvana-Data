{
 "cells": [
  {
   "cell_type": "markdown",
   "id": "08359389-fec0-4e6c-9409-9f1be95e7982",
   "metadata": {},
   "source": [
    "# ANSWERS\n",
    "Enter all of your official answers to each question here."
   ]
  },
  {
   "cell_type": "markdown",
   "id": "9943624e-ed13-4caa-8b78-dfb9f9f6a1d0",
   "metadata": {},
   "source": [
    "### What category of channel has the lowest cost per click?"
   ]
  },
  {
   "cell_type": "code",
   "execution_count": 11,
   "id": "2261a22f1fc37e9c",
   "metadata": {
    "ExecuteTime": {
     "end_time": "2023-12-21T20:23:05.340802Z",
     "start_time": "2023-12-21T20:23:05.314762Z"
    }
   },
   "outputs": [
    {
     "ename": "ModuleNotFoundError",
     "evalue": "No module named 'WITH'",
     "output_type": "error",
     "traceback": [
      "\u001b[0;31m---------------------------------------------------------------------------\u001b[0m",
      "\u001b[0;31mModuleNotFoundError\u001b[0m                       Traceback (most recent call last)",
      "Cell \u001b[0;32mIn[11], line 1\u001b[0m\n\u001b[0;32m----> 1\u001b[0m \u001b[38;5;28;01mimport\u001b[39;00m \u001b[38;5;21;01mWITH\u001b[39;00m\n\u001b[1;32m      2\u001b[0m get_ipython()\u001b[38;5;241m.\u001b[39mrun_line_magic(\u001b[38;5;124m'\u001b[39m\u001b[38;5;132;01m%c\u001b[39;00m\u001b[38;5;124mapture\u001b[39m\u001b[38;5;124m'\u001b[39m, \u001b[38;5;124m'\u001b[39m\u001b[38;5;124m'\u001b[39m)\n\u001b[1;32m      3\u001b[0m \u001b[38;5;66;03m################################\u001b[39;00m\n\u001b[1;32m      4\u001b[0m \u001b[38;5;66;03m#### do not alter this code ####\u001b[39;00m\n\u001b[1;32m      5\u001b[0m \u001b[38;5;66;03m################################\u001b[39;00m\n",
      "\u001b[0;31mModuleNotFoundError\u001b[0m: No module named 'WITH'"
     ]
    }
   ],
   "source": [
    "import WITH\n",
    "%%capture\n",
    "################################\n",
    "#### do not alter this code ####\n",
    "################################\n",
    "\n",
    "!pip install pandas\n",
    "!pip install jupysql\n",
    "!pip install matplotlib\n",
    "\n",
    "import pandas as pd\n",
    "import matplotlib\n",
    "\n"
   ]
  },
  {
   "cell_type": "code",
   "execution_count": 8,
   "id": "a5d62507fb7b9797",
   "metadata": {
    "ExecuteTime": {
     "end_time": "2023-12-21T20:21:32.123882Z",
     "start_time": "2023-12-21T20:21:32.100977Z"
    }
   },
   "outputs": [
    {
     "ename": "NameError",
     "evalue": "name 'pd' is not defined",
     "output_type": "error",
     "traceback": [
      "\u001b[0;31m---------------------------------------------------------------------------\u001b[0m",
      "\u001b[0;31mNameError\u001b[0m                                 Traceback (most recent call last)",
      "Cell \u001b[0;32mIn[8], line 11\u001b[0m\n\u001b[1;32m      8\u001b[0m sales_path\u001b[38;5;241m=\u001b[39m\u001b[38;5;124m\"\u001b[39m\u001b[38;5;124mdata/sales.csv\u001b[39m\u001b[38;5;124m\"\u001b[39m\n\u001b[1;32m      9\u001b[0m spend_path\u001b[38;5;241m=\u001b[39m\u001b[38;5;124m\"\u001b[39m\u001b[38;5;124mdata/spend.csv\u001b[39m\u001b[38;5;124m\"\u001b[39m\n\u001b[0;32m---> 11\u001b[0m ad_channels\u001b[38;5;241m=\u001b[39m\u001b[43mpd\u001b[49m\u001b[38;5;241m.\u001b[39mread_csv(ad_channel_path)\n\u001b[1;32m     12\u001b[0m clicks\u001b[38;5;241m=\u001b[39mpd\u001b[38;5;241m.\u001b[39mread_csv(clicks_path)\n\u001b[1;32m     13\u001b[0m locks\u001b[38;5;241m=\u001b[39mpd\u001b[38;5;241m.\u001b[39mread_csv(locks_path)\n",
      "\u001b[0;31mNameError\u001b[0m: name 'pd' is not defined"
     ]
    }
   ],
   "source": [
    "%%capture\n",
    "\n",
    "################################\n",
    "#### do not alter this code ####\n",
    "################################\n",
    "\n",
    "ad_channel_path=\"data/ad_channels.csv\"\n",
    "clicks_path=\"data/clicks.csv\"\n",
    "locks_path=\"data/locks.csv\"\n",
    "sales_path=\"data/sales.csv\"\n",
    "spend_path=\"data/spend.csv\"\n",
    "\n",
    "ad_channels=pd.read_csv(ad_channel_path)\n",
    "clicks=pd.read_csv(clicks_path)\n",
    "locks=pd.read_csv(locks_path)\n",
    "sales=pd.read_csv(sales_path)\n",
    "spend=pd.read_csv(spend_path)\n",
    "\n",
    "%load_ext sql\n",
    "%sql sqlite://\n",
    "\n",
    "%sql --persist ad_channels\n",
    "%sql --persist clicks\n",
    "%sql --persist locks\n",
    "%sql --persist sales\n",
    "%sql --persist spend"
   ]
  },
  {
   "cell_type": "code",
   "execution_count": 1,
   "id": "99e04797124983c3",
   "metadata": {
    "ExecuteTime": {
     "end_time": "2023-12-21T20:20:10.318727Z",
     "start_time": "2023-12-21T20:20:10.316368Z"
    }
   },
   "outputs": [
    {
     "name": "stderr",
     "output_type": "stream",
     "text": [
      "UsageError: Cell magic `%%sql` not found.\n"
     ]
    }
   ],
   "source": [
    "%%sql\n",
    "SELECT ac.channel, AVG(s.spend / c.unique_users) AS cpc\n",
    "FROM spend s\n",
    "JOIN ad_channels ac ON s.channel_id = ac.channel_id\n",
    "JOIN (\n",
    "    SELECT channel_id, COUNT(DISTINCT user_id) AS unique_users\n",
    "    FROM clicks\n",
    "    GROUP BY channel_id\n",
    ") c ON s.channel_id = c.channel_id\n",
    "GROUP BY ac.channel\n",
    "ORDER BY c\n",
    "LIMIT 1;\n"
   ]
  },
  {
   "cell_type": "raw",
   "id": "9467d020-28b4-4da4-a5d2-279bb0a9ed37",
   "metadata": {},
   "source": []
  },
  {
   "cell_type": "markdown",
   "id": "8b1a80f5-52d9-4f88-863a-ca40bf2d5f2e",
   "metadata": {},
   "source": [
    "### What are the top three campaigns in terms of sales generated by first touch attribution?"
   ]
  },
  {
   "cell_type": "code",
   "execution_count": 9,
   "id": "ee7585c934597aa6",
   "metadata": {
    "ExecuteTime": {
     "end_time": "2023-12-20T22:12:26.936134Z",
     "start_time": "2023-12-20T22:12:26.136490Z"
    }
   },
   "outputs": [
    {
     "data": {
      "text/html": [
       "<span style=\"None\">Running query in &#x27;sqlite://&#x27;</span>"
      ],
      "text/plain": [
       "Running query in 'sqlite://'"
      ]
     },
     "metadata": {},
     "output_type": "display_data"
    },
    {
     "data": {
      "text/html": [
       "<table>\n",
       "    <thead>\n",
       "        <tr>\n",
       "            <th>sale_id</th>\n",
       "        </tr>\n",
       "    </thead>\n",
       "    <tbody>\n",
       "        <tr>\n",
       "            <td>1591860</td>\n",
       "        </tr>\n",
       "        <tr>\n",
       "            <td>1590823</td>\n",
       "        </tr>\n",
       "        <tr>\n",
       "            <td>1592444</td>\n",
       "        </tr>\n",
       "    </tbody>\n",
       "</table>"
      ],
      "text/plain": [
       "+---------+\n",
       "| sale_id |\n",
       "+---------+\n",
       "| 1591860 |\n",
       "| 1590823 |\n",
       "| 1592444 |\n",
       "+---------+"
      ]
     },
     "execution_count": 9,
     "metadata": {},
     "output_type": "execute_result"
    }
   ],
   "source": [
    "%%sql\n",
    "SELECT s.sale_id\n",
    "FROM sales s\n",
    "JOIN (\n",
    "    SELECT user_id, MIN(lock_datetime) AS first_touch_datetime\n",
    "    FROM locks\n",
    "    GROUP BY user_id\n",
    ") l ON s.user_id = l.user_id\n",
    "ORDER BY first_touch_datetime DESC\n",
    "LIMIT 3;\n"
   ]
  },
  {
   "cell_type": "raw",
   "id": "d212edff-3f46-4039-90a9-98448f7eed38",
   "metadata": {},
   "source": []
  },
  {
   "cell_type": "markdown",
   "id": "90bb53ed-852d-4acc-b35a-91a469157b8a",
   "metadata": {},
   "source": [
    "### Which campaigns had the most month over month growth/decline in sales generated from Oct to Dec?"
   ]
  },
  {
   "cell_type": "code",
   "execution_count": 15,
   "id": "8f103d4d-6ec4-4351-9b13-b4870833b681",
   "metadata": {
    "ExecuteTime": {
     "end_time": "2023-12-20T22:42:25.906820Z",
     "start_time": "2023-12-20T22:42:25.732643Z"
    }
   },
   "outputs": [
    {
     "data": {
      "text/html": [
       "<span style=\"None\">Running query in &#x27;sqlite://&#x27;</span>"
      ],
      "text/plain": [
       "Running query in 'sqlite://'"
      ]
     },
     "metadata": {},
     "output_type": "display_data"
    },
    {
     "name": "stderr",
     "output_type": "stream",
     "text": [
      "RuntimeError: (sqlite3.OperationalError) no such column: s.channel_id\n",
      "[SQL: WITH MonthlySales AS (\n",
      "    SELECT\n",
      "        ac.channel AS campaign,\n",
      "        COUNT(DISTINCT s.sale_id) AS sales_in_oct,\n",
      "        0 AS sales_in_dec\n",
      "    FROM sales s\n",
      "    JOIN ad_channels ac ON s.channel_id = ac.channel_id\n",
      "    JOIN locks l ON s.user_id = l.user_id\n",
      "    WHERE strftime('%m', l.lock_datetime) = '10'\n",
      "    GROUP BY ac.channel\n",
      "\n",
      "    UNION ALL\n",
      "\n",
      "    SELECT\n",
      "        ac.channel AS campaign,\n",
      "        0 AS sales_in_oct,\n",
      "        COUNT(DISTINCT s.sale_id) AS sales_in_dec\n",
      "    FROM sales s\n",
      "    JOIN ad_channels ac ON s.channel_id = ac.channel\n",
      "    JOIN locks l ON s.user_id = l.user_id\n",
      "    WHERE strftime('%m', l.lock_datetime) = '12'\n",
      "    GROUP BY ac.channel\n",
      ")\n",
      "\n",
      "SELECT campaign, SUM(sales_in_dec - sales_in_oct) AS growth_decline\n",
      "FROM MonthlySales\n",
      "GROUP BY campaign\n",
      "ORDER BY growth_decline DESC\n",
      "LIMIT 1;]\n",
      "(Background on this error at: https://sqlalche.me/e/14/e3q8)\n",
      "If you need help solving this issue, send us a message: https://ploomber.io/community\n"
     ]
    }
   ],
   "source": [
    "%%sql \n"
   ]
  },
  {
   "cell_type": "markdown",
   "id": "085a0b26-19f0-4179-9d96-b708229e29dd",
   "metadata": {},
   "source": [
    "### Which partner is the most cost efficient, i.e., has the lowest CAC"
   ]
  },
  {
   "cell_type": "code",
   "execution_count": 23,
   "id": "6aab63642aec49bf",
   "metadata": {
    "ExecuteTime": {
     "end_time": "2023-12-20T22:52:04.585219Z",
     "start_time": "2023-12-20T22:52:04.348162Z"
    }
   },
   "outputs": [
    {
     "data": {
      "text/html": [
       "<span style=\"None\">Running query in &#x27;sqlite://&#x27;</span>"
      ],
      "text/plain": [
       "Running query in 'sqlite://'"
      ]
     },
     "metadata": {},
     "output_type": "display_data"
    },
    {
     "name": "stderr",
     "output_type": "stream",
     "text": [
      "RuntimeError: (sqlite3.OperationalError) no such column: s.sale_id\n",
      "[SQL: WITH PartnerCAC AS (\n",
      "    SELECT\n",
      "        ac.channel AS partner,\n",
      "        SUM(s.spend) / COUNT(DISTINCT s.sale_id) AS cac\n",
      "    FROM spend s\n",
      "    JOIN ad_channels ac ON s.channel_id = ac.channel_id\n",
      "    GROUP BY ac.channel_name\n",
      ")\n",
      "\n",
      "SELECT partner, cac\n",
      "FROM PartnerCAC\n",
      "ORDER BY cac\n",
      "LIMIT 1;]\n",
      "(Background on this error at: https://sqlalche.me/e/14/e3q8)\n",
      "If you need help solving this issue, send us a message: https://ploomber.io/community\n"
     ]
    }
   ],
   "source": [
    "%%sql \n",
    "WITH PartnerCAC AS (\n",
    "    SELECT\n",
    "        ac.channel AS partner,\n",
    "        SUM(s.spend) / COUNT(DISTINCT s.sale_id) AS cac\n",
    "    FROM spend s\n",
    "    JOIN ad_channels ac ON s.channel_id = ac.channel_id\n",
    "    GROUP BY ac.channel_name\n",
    ")\n",
    "\n",
    "SELECT partner, cac\n",
    "FROM PartnerCAC\n",
    "ORDER BY cac\n",
    "LIMIT 1;\n",
    "\n"
   ]
  },
  {
   "cell_type": "raw",
   "id": "96afafc7-848c-49de-a94b-7c891fe0fb3e",
   "metadata": {},
   "source": []
  },
  {
   "cell_type": "markdown",
   "id": "ad04c56d-80d6-4db8-a740-37e97c835139",
   "metadata": {},
   "source": [
    "### Which category of channel has the best ROI? The worst?"
   ]
  },
  {
   "cell_type": "code",
   "execution_count": 21,
   "id": "f090e82363751820",
   "metadata": {
    "ExecuteTime": {
     "end_time": "2023-12-20T22:49:01.605711Z",
     "start_time": "2023-12-20T22:49:01.429198Z"
    }
   },
   "outputs": [
    {
     "data": {
      "text/html": [
       "<span style=\"None\">Running query in &#x27;sqlite://&#x27;</span>"
      ],
      "text/plain": [
       "Running query in 'sqlite://'"
      ]
     },
     "metadata": {},
     "output_type": "display_data"
    },
    {
     "name": "stderr",
     "output_type": "stream",
     "text": [
      "RuntimeError: (sqlite3.OperationalError) no such column: ac.channel_name\n",
      "[SQL: WITH ChannelROI AS (\n",
      "    SELECT\n",
      "        ac.channel_name,\n",
      "        SUM(s.gross_profit) / SUM(s.spend) AS roi\n",
      "    FROM sales s\n",
      "    JOIN ad_channels ac ON s.channel_id = ac.channel_id\n",
      "    GROUP BY ac.channel_name\n",
      ")\n",
      "\n",
      "SELECT channel_name, roi\n",
      "FROM ChannelROI\n",
      "ORDER BY roi DESC\n",
      "LIMIT 1;]\n",
      "(Background on this error at: https://sqlalche.me/e/14/e3q8)\n",
      "If you need help solving this issue, send us a message: https://ploomber.io/community\n"
     ]
    }
   ],
   "source": [
    "%%sql\n"
   ]
  },
  {
   "cell_type": "raw",
   "id": "e12a9974-a3d7-46f9-94ea-d23bcb4bc4c3",
   "metadata": {},
   "source": []
  },
  {
   "cell_type": "markdown",
   "id": "84c68d9b-1662-4eb8-87bf-a0f199785539",
   "metadata": {},
   "source": [
    "### On average, how many different channels do customers interact with prior to locking a car?"
   ]
  },
  {
   "cell_type": "code",
   "execution_count": 20,
   "id": "448ebe5a6220dfee",
   "metadata": {
    "ExecuteTime": {
     "end_time": "2023-12-20T22:48:41.089003Z",
     "start_time": "2023-12-20T22:48:40.816609Z"
    }
   },
   "outputs": [
    {
     "data": {
      "text/html": [
       "<span style=\"None\">Running query in &#x27;sqlite://&#x27;</span>"
      ],
      "text/plain": [
       "Running query in 'sqlite://'"
      ]
     },
     "metadata": {},
     "output_type": "display_data"
    },
    {
     "data": {
      "text/html": [
       "<table>\n",
       "    <thead>\n",
       "        <tr>\n",
       "            <th>average_channels</th>\n",
       "        </tr>\n",
       "    </thead>\n",
       "    <tbody>\n",
       "        <tr>\n",
       "            <td>1.3165065775736062</td>\n",
       "        </tr>\n",
       "    </tbody>\n",
       "</table>"
      ],
      "text/plain": [
       "+--------------------+\n",
       "|  average_channels  |\n",
       "+--------------------+\n",
       "| 1.3165065775736062 |\n",
       "+--------------------+"
      ]
     },
     "execution_count": 20,
     "metadata": {},
     "output_type": "execute_result"
    }
   ],
   "source": [
    "%%sql WITH UniqueChannels AS (\n",
    "    SELECT\n",
    "        user_id,\n",
    "        COUNT(DISTINCT channel_id) AS unique_channels\n",
    "    FROM clicks\n",
    "    GROUP BY user_id\n",
    ")\n",
    "\n",
    "\n",
    "SELECT AVG(unique_channels) AS average_channels\n",
    "FROM UniqueChannels;\n"
   ]
  },
  {
   "cell_type": "raw",
   "id": "b4c484e7-565d-4c4f-be73-e9ef16bdf1f9",
   "metadata": {},
   "source": []
  },
  {
   "cell_type": "markdown",
   "id": "047930ac-946d-4449-96d5-c4d510cc85f6",
   "metadata": {},
   "source": [
    "### What percentage of sales don't have a click within 90 days prior to the conversion? How can you explain this?"
   ]
  },
  {
   "cell_type": "code",
   "execution_count": 19,
   "id": "d83169701f36ef0b",
   "metadata": {
    "ExecuteTime": {
     "end_time": "2023-12-20T22:48:19.685011Z",
     "start_time": "2023-12-20T22:48:19.192632Z"
    }
   },
   "outputs": [
    {
     "data": {
      "text/html": [
       "<span style=\"None\">Running query in &#x27;sqlite://&#x27;</span>"
      ],
      "text/plain": [
       "Running query in 'sqlite://'"
      ]
     },
     "metadata": {},
     "output_type": "display_data"
    },
    {
     "data": {
      "text/html": [
       "<table>\n",
       "    <thead>\n",
       "        <tr>\n",
       "            <th>sales_without_click</th>\n",
       "            <th>percentage</th>\n",
       "        </tr>\n",
       "    </thead>\n",
       "    <tbody>\n",
       "        <tr>\n",
       "            <td>27</td>\n",
       "            <td>100.0</td>\n",
       "        </tr>\n",
       "    </tbody>\n",
       "</table>"
      ],
      "text/plain": [
       "+---------------------+------------+\n",
       "| sales_without_click | percentage |\n",
       "+---------------------+------------+\n",
       "|          27         |   100.0    |\n",
       "+---------------------+------------+"
      ]
     },
     "execution_count": 19,
     "metadata": {},
     "output_type": "execute_result"
    }
   ],
   "source": [
    "%%sql WITH SalesWithoutClick AS (\n",
    "    SELECT\n",
    "        s.sale_id\n",
    "    FROM sales s\n",
    "    LEFT JOIN clicks c ON s.user_id = c.user_id\n",
    "    WHERE c.click_datetime IS NULL OR s.sale_datetime - c.click_datetime > 90\n",
    ")\n",
    "\n",
    "SELECT\n",
    "    COUNT(sale_id) AS sales_without_click,\n",
    "    COUNT(s.sale_id) * 100.0 / COUNT(*) AS percentage\n",
    "FROM SalesWithoutClick s;\n"
   ]
  },
  {
   "cell_type": "raw",
   "id": "88d57ecf-67e4-4327-a488-1d767bebf855",
   "metadata": {},
   "source": []
  },
  {
   "cell_type": "markdown",
   "id": "21667e33-8e6e-43aa-b4a9-ce1ca54ac48f",
   "metadata": {},
   "source": [
    "### Based on what you know about channel performance, what recommendation would you give for re-allocating spend given we are increasing budget by 20% next year?"
   ]
  },
  {
   "cell_type": "raw",
   "id": "b33f5148-9b43-4eed-b559-abf4e558adfa",
   "metadata": {},
   "source": []
  }
 ],
 "metadata": {
  "kernelspec": {
   "display_name": "Python 3 (ipykernel)",
   "language": "python",
   "name": "python3"
  },
  "language_info": {
   "codemirror_mode": {
    "name": "ipython",
    "version": 3
   },
   "file_extension": ".py",
   "mimetype": "text/x-python",
   "name": "python",
   "nbconvert_exporter": "python",
   "pygments_lexer": "ipython3",
   "version": "3.10.13"
  }
 },
 "nbformat": 4,
 "nbformat_minor": 5
}
